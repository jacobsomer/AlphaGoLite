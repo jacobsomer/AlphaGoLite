{
  "nbformat": 4,
  "nbformat_minor": 0,
  "metadata": {
    "colab": {
      "name": "AlphaGoLite.ipynb",
      "provenance": [],
      "collapsed_sections": [],
      "authorship_tag": "ABX9TyPCzs6mL0Vo/cPZER4UhCIg",
      "include_colab_link": true
    },
    "kernelspec": {
      "name": "python3",
      "display_name": "Python 3"
    },
    "language_info": {
      "name": "python"
    }
  },
  "cells": [
    {
      "cell_type": "markdown",
      "metadata": {
        "id": "view-in-github",
        "colab_type": "text"
      },
      "source": [
        "<a href=\"https://colab.research.google.com/github/jacobsomer/AlphaGoLite/blob/master/AlphaGoLite.ipynb\" target=\"_parent\"><img src=\"https://colab.research.google.com/assets/colab-badge.svg\" alt=\"Open In Colab\"/></a>"
      ]
    },
    {
      "cell_type": "code",
      "metadata": {
        "colab": {
          "base_uri": "https://localhost:8080/",
          "height": 35
        },
        "id": "9LwXkiTh_A9v",
        "outputId": "06ab5c25-d75c-44f2-b63a-233814b24b5f"
      },
      "source": [
        "from tensorflow.keras import Input, Model\n",
        "from sklearn.datasets import load_iris\n",
        "from keras.layers import Input, Add, Dense, Activation, ZeroPadding2D, BatchNormalization, Flatten, Conv2D, AveragePooling2D, MaxPooling2D, GlobalMaxPooling2D\n",
        "from keras.initializers import glorot_uniform\n",
        "import numpy as np\n",
        "from keras.optimizers import *\n",
        "\"\"\"\n",
        "AlphaGo NeuralNetwork Implementation\n",
        "Input Shape: (19,19,17)\n",
        "Policy head shape: (361+1,1)\n",
        "Value head shape:(1,) --> Values\n",
        "\"\"\""
      ],
      "execution_count": 171,
      "outputs": [
        {
          "output_type": "execute_result",
          "data": {
            "application/vnd.google.colaboratory.intrinsic+json": {
              "type": "string"
            },
            "text/plain": [
              "'\\nAlphaGo NeuralNetwork Implementation\\nInput Shape: (19,19,17)\\nPolicy head shape: (361+1,1)\\nValue head shape:(1,) --> Values\\n'"
            ]
          },
          "metadata": {
            "tags": []
          },
          "execution_count": 171
        }
      ]
    },
    {
      "cell_type": "code",
      "metadata": {
        "colab": {
          "base_uri": "https://localhost:8080/"
        },
        "id": "BbJZilBh_DWf",
        "outputId": "78dac89c-bf23-4598-f36a-0a06d0d684cb"
      },
      "source": [
        "data, target = load_iris(return_X_y=True)\n",
        "X = data[:, (0, 1, 2)]\n",
        "Y = data[:, 3]\n",
        "Z = target\n",
        "\n",
        "inputs = Input(shape=(3,))\n",
        "x = Dense(16, activation='relu')(inputs)\n",
        "x = Dense(32, activation='relu')(x)\n",
        "output1 = Dense(1)(x)\n",
        "output2 = Dense(3, activation='softmax')(x)\n",
        "\n",
        "model = Model(inputs=inputs, outputs=[output1, output2])\n",
        "\n",
        "model.compile(loss=['mae', 'sparse_categorical_crossentropy'], optimizer='adam')\n",
        "\n",
        "history = model.fit(X, [Y, Z], epochs=10, batch_size=8)"
      ],
      "execution_count": 3,
      "outputs": [
        {
          "output_type": "stream",
          "text": [
            "Epoch 1/10\n",
            "19/19 [==============================] - 1s 2ms/step - loss: 1.7356 - dense_2_loss: 0.5533 - dense_3_loss: 1.1823\n",
            "Epoch 2/10\n",
            "19/19 [==============================] - 0s 2ms/step - loss: 1.5182 - dense_2_loss: 0.4566 - dense_3_loss: 1.0617\n",
            "Epoch 3/10\n",
            "19/19 [==============================] - 0s 2ms/step - loss: 1.3897 - dense_2_loss: 0.4108 - dense_3_loss: 0.9788\n",
            "Epoch 4/10\n",
            "19/19 [==============================] - 0s 2ms/step - loss: 1.2711 - dense_2_loss: 0.3614 - dense_3_loss: 0.9097\n",
            "Epoch 5/10\n",
            "19/19 [==============================] - 0s 2ms/step - loss: 1.1638 - dense_2_loss: 0.3011 - dense_3_loss: 0.8627\n",
            "Epoch 6/10\n",
            "19/19 [==============================] - 0s 2ms/step - loss: 1.0645 - dense_2_loss: 0.2538 - dense_3_loss: 0.8107\n",
            "Epoch 7/10\n",
            "19/19 [==============================] - 0s 1ms/step - loss: 0.9616 - dense_2_loss: 0.1974 - dense_3_loss: 0.7642\n",
            "Epoch 8/10\n",
            "19/19 [==============================] - 0s 2ms/step - loss: 0.8830 - dense_2_loss: 0.1644 - dense_3_loss: 0.7186\n",
            "Epoch 9/10\n",
            "19/19 [==============================] - 0s 2ms/step - loss: 0.8201 - dense_2_loss: 0.1471 - dense_3_loss: 0.6730\n",
            "Epoch 10/10\n",
            "19/19 [==============================] - 0s 2ms/step - loss: 0.7778 - dense_2_loss: 0.1476 - dense_3_loss: 0.6302\n"
          ],
          "name": "stdout"
        }
      ]
    },
    {
      "cell_type": "code",
      "metadata": {
        "colab": {
          "base_uri": "https://localhost:8080/"
        },
        "id": "VnB2S8Yg_HGt",
        "outputId": "9d459d71-749e-4e4c-c6ca-263a505f5b5a"
      },
      "source": [
        "print(Y.shape)"
      ],
      "execution_count": 6,
      "outputs": [
        {
          "output_type": "stream",
          "text": [
            "(150,)\n"
          ],
          "name": "stdout"
        }
      ]
    },
    {
      "cell_type": "code",
      "metadata": {
        "id": "9pOtGglb_U6G"
      },
      "source": [
        "def residual_layer(X, filter_size):\n",
        "    \n",
        "    # Save the input value. You'll need this later to add back to the main path.\n",
        "    X_skip_connection = X\n",
        "\n",
        "    # First component\n",
        "    X = Conv2D(filters=256, kernel_size=filter_size, strides=(1, 1),  kernel_initializer=glorot_uniform(seed=0))(X)\n",
        "    X = BatchNormalization(axis=3)(X)\n",
        "    X = Activation('relu')(X)\n",
        "\n",
        "     # Second component of main path same as first\n",
        "    X = Conv2D(filters=256, kernel_size=filter_size, strides=(1, 1),  kernel_initializer=glorot_uniform(seed=0))(X)\n",
        "    X = BatchNormalization(axis=3)(X)\n",
        "    X = Activation('relu')(X)\n",
        "\n",
        "    X_skip_connection = Conv2D(filters=256, kernel_size=filter_size, strides=(1, 1),  kernel_initializer=glorot_uniform(seed=0))(X_skip_connection)\n",
        "    X_skip_connection = Conv2D(filters=256, kernel_size=filter_size, strides=(1, 1),  kernel_initializer=glorot_uniform(seed=0))(X_skip_connection)\n",
        "    # Final step: Add skip_connection value to main path, and pass it through a RELU activation\n",
        "    X = Add()([X, X_skip_connection])\n",
        "    X = Activation('relu')(X)\n",
        "    \n",
        "    return X\n",
        "\n",
        "\n",
        "def convolutional_layer(X):\n",
        "    # First component\n",
        "    X = Conv2D(filters=256, kernel_size=(1, 1), strides=(1, 1),  kernel_initializer=glorot_uniform(seed=0))(X)\n",
        "    X = BatchNormalization(axis=3)(X)\n",
        "    X = Activation('relu')(X)\n",
        "    return X\n",
        "\n",
        "def value_head(X):\n",
        "    X = Conv2D(filters=1, kernel_size=(1,1), strides=(1, 1),  kernel_initializer=glorot_uniform(seed=0))(X)\n",
        "    X = BatchNormalization(axis=3)(X)\n",
        "    X = Activation('relu')(X)\n",
        "    X = Dense(256)(X)\n",
        "    X = Activation('relu')(X)\n",
        "    X = Dense(1)(X)\n",
        "    X = Activation('tanh')(X)\n",
        "    return X\n",
        "\n",
        "def policy_head(X):\n",
        "    X = Conv2D(filters=1, kernel_size=(1, 1), strides=(1, 1),  kernel_initializer=glorot_uniform(seed=0))(X)\n",
        "    X = Conv2D(filters=1, kernel_size=(1, 1), strides=(1, 1),  kernel_initializer=glorot_uniform(seed=0))(X)\n",
        "    X = BatchNormalization(axis=3)(X)\n",
        "    X = Activation('relu')(X)\n",
        "    \n",
        "    #19x19+1 -> all possible moves + pass\n",
        "    X = Dense(362)(X)\n",
        "    return X"
      ],
      "execution_count": 76,
      "outputs": []
    },
    {
      "cell_type": "code",
      "metadata": {
        "id": "7BEG2Ilw_aEm"
      },
      "source": [
        "\n",
        "def AlphaGo_Zero_Network():\n",
        "  inputs = Input(shape=(19,19,17))\n",
        "  # 1 convolutional layer\n",
        "  X = convolutional_layer(inputs)\n",
        "  \n",
        "  # 5 residual layers instead of 40 \n",
        "    \n",
        "  X=residual_layer(X, (3,3))\n",
        "  X=residual_layer(X, (3,3))\n",
        "  X=residual_layer(X, (3,3))\n",
        "  X=residual_layer(X, (3,3))\n",
        "  X=residual_layer(X, (2,2))\n",
        "  #value head\n",
        "  value_head_output = value_head(X)\n",
        "\n",
        "  #policy head\n",
        "  policy_head_output = policy_head(X)\n",
        "\n",
        "  X = Model(inputs=inputs, outputs=[value_head_output, policy_head_output])\n",
        "  \n",
        "  return X\n",
        "nn= AlphaGo_Zero_Network()\n"
      ],
      "execution_count": 193,
      "outputs": []
    },
    {
      "cell_type": "code",
      "metadata": {
        "id": "yP4nsGU1MQRn"
      },
      "source": [
        "rsmprop = RMSprop(clipvalue=0.5)\n",
        "nn.compile(loss=['binary_crossentropy', 'categorical_crossentropy'], optimizer='rmsprop')"
      ],
      "execution_count": 194,
      "outputs": []
    },
    {
      "cell_type": "code",
      "metadata": {
        "colab": {
          "base_uri": "https://localhost:8080/"
        },
        "id": "UVio1UOxROeI",
        "outputId": "a8fe0ee9-67af-401c-fe02-e2ef35dde42c"
      },
      "source": [
        "import random\n",
        "x=[[[[random.choice([1,0]) for x in range(17)] for j in range(19)] for k in range(19)] for t in range(500)]\n",
        "x = np.array(x, dtype=\"float32\")\n",
        "y=[[random.choice([1,0])] for x in range(500)]\n",
        "y = np.array(y, dtype=\"float32\")\n",
        "z=[[[[random.choice([1,0]) for i in range(362)]]] for x in range(500)]\n",
        "z = np.array(z, dtype=\"float32\")\n",
        "# model.predict(x)\n",
        "history = nn.fit(x, [y, z], epochs=1, batch_size=1)"
      ],
      "execution_count": null,
      "outputs": [
        {
          "output_type": "stream",
          "text": [
            "200/500 [===========>..................] - ETA: 1:11 - loss: 1937.0110 - activation_3227_loss: 7.0909 - dense_75_loss: 1929.9202"
          ],
          "name": "stdout"
        }
      ]
    },
    {
      "cell_type": "code",
      "metadata": {
        "id": "2ao9ePkBUyHd"
      },
      "source": [
        ""
      ],
      "execution_count": null,
      "outputs": []
    },
    {
      "cell_type": "code",
      "metadata": {
        "id": "az9UbnCTVN6r"
      },
      "source": [
        ""
      ],
      "execution_count": null,
      "outputs": []
    },
    {
      "cell_type": "code",
      "metadata": {
        "id": "KgAyH_fvVSBz"
      },
      "source": [
        ""
      ],
      "execution_count": null,
      "outputs": []
    },
    {
      "cell_type": "code",
      "metadata": {
        "id": "yFm5pF8LXc2Z"
      },
      "source": [
        ""
      ],
      "execution_count": null,
      "outputs": []
    },
    {
      "cell_type": "code",
      "metadata": {
        "id": "SzO-H2rIX64q"
      },
      "source": [
        ""
      ],
      "execution_count": 185,
      "outputs": []
    },
    {
      "cell_type": "code",
      "metadata": {
        "id": "aSP-SHJXcTo2"
      },
      "source": [
        ""
      ],
      "execution_count": null,
      "outputs": []
    }
  ]
}